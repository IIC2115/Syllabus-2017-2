{
 "cells": [
  {
   "cell_type": "code",
   "execution_count": 1,
   "metadata": {
    "collapsed": true
   },
   "outputs": [],
   "source": [
    "import sqlite3\n",
    "import random"
   ]
  },
  {
   "cell_type": "markdown",
   "metadata": {},
   "source": [
    "# Abrir base de datos\n",
    "Primero es necesario abrir nuestra base de datos y definir el cursor."
   ]
  },
  {
   "cell_type": "code",
   "execution_count": 2,
   "metadata": {
    "collapsed": true
   },
   "outputs": [],
   "source": [
    "connection = sqlite3.connect('AC09.db') \n",
    "cursor = connection.cursor()   "
   ]
  },
  {
   "cell_type": "markdown",
   "metadata": {},
   "source": [
    "La primera misión es agregar las columnas Precio y Distancia. Para esto utilizamos lo indicado en el material de clases `02 - SQL`.\n",
    "> Finalmente, si se busca modificar la estructura de una tabla, es posible hacerlo mediante el comando ALTER:\n",
    "\n",
    "> ALTER TABLE Estudiantes ADD COLUMN carrera VARCHAR(30)\n",
    "\n",
    "En nuestro caso, hay que cambiar `Estudiantes` por `Flights`, `carrera` por `Precio` o `Distancia` y `VARCHAR(30)` por `INTEGER`."
   ]
  },
  {
   "cell_type": "code",
   "execution_count": 3,
   "metadata": {},
   "outputs": [],
   "source": [
    "cursor.execute(\"ALTER TABLE Flights ADD COLUMN Precio INTEGER\")\n",
    "cursor.execute(\"ALTER TABLE Flights ADD COLUMN Distancia INTEGER\")\n",
    "connection.commit()\n",
    "# Si aparece un OperationalError es que las tablas ya tienen esas columnas"
   ]
  },
  {
   "cell_type": "markdown",
   "metadata": {},
   "source": [
    "Para validar que existen, usamos el comando que nos enseñaron `PRAGMA` para ver la información de las columnas."
   ]
  },
  {
   "cell_type": "code",
   "execution_count": 4,
   "metadata": {},
   "outputs": [
    {
     "data": {
      "text/plain": [
       "[(0, 'Airline', 'INTEGER', 0, None, 0),\n",
       " (1, 'FlightNo', 'INTEGER', 0, None, 0),\n",
       " (2, 'SourceAirport', 'varchar(3)', 0, None, 0),\n",
       " (3, 'DestAirport', 'varchar(3)', 0, None, 0),\n",
       " (4, 'Precio', 'INTEGER', 0, None, 0),\n",
       " (5, 'Distancia', 'INTEGER', 0, None, 0)]"
      ]
     },
     "execution_count": 4,
     "metadata": {},
     "output_type": "execute_result"
    }
   ],
   "source": [
    "cursor.execute('PRAGMA table_info([Flights])')\n",
    "cursor.fetchall()"
   ]
  },
  {
   "cell_type": "markdown",
   "metadata": {},
   "source": [
    "Ahora que ya tenemos nuestras 2 columnas creadas, creamos dos funciones encargada de generar precios y distancia random.\n",
    "\n",
    "-------------------------\n",
    "\n",
    "Para generar precios random, tenemos que iterar sobre los datos. Disponemos de dos opciones\n",
    "\n",
    "La primera es utilizar lo enseñado en el material:\n",
    "\n",
    ">Finalmente, con el fin de hacer más limpia (y formateable) la impresión de los resultados obtenidos por una consulta, es posible utilizar el cursor resultante de una consulta como un iterador:\n",
    "\n",
    ">  \n",
    "```\n",
    "for country in cursor.execute('SELECT * FROM countries ORDER BY name'):\n",
    "    print(country)\n",
    "```\n",
    "\n",
    "El problema de lo anterior esque solo se puede hacer si **dentro del for no se realizar ningún `cursor.execute()`**. En este caso queremos iterar sobre el resultado para editar la tabla, es decir, si tendremos un `cursor.execute()` dentro del for y por ello, recurrimos a la segunda forma, la cual es utilizar `fetchall()` para capturar el resultado e iterar sobre ese. Más adelante usaremos la forma 1."
   ]
  },
  {
   "cell_type": "code",
   "execution_count": 5,
   "metadata": {
    "collapsed": true
   },
   "outputs": [],
   "source": [
    "def generar_precio_random(cursos, connection):\n",
    "    cursor.execute(\"Select SourceAirport, DestAirport from Flights\")\n",
    "    # fetchall nos traerá todas las filas incluyendo el header\n",
    "    # Por tal motivo le agregamos un `[1:]` para decirle que parta desde el segundo elemento\n",
    "    # en adelante (considerar el primer elemento como la posición 0)\n",
    "    tuplas = cursor.fetchall()[1:]\n",
    "\n",
    "    for tupla in tuplas: # Recorremos cada fila\n",
    "        precio = random.randint(1000, 7000)\n",
    "        SourceAirport = tupla[0]\n",
    "        DestAirport = tupla[1]\n",
    "        cursos.execute(\"UPDATE Flights SET Precio = ? WHERE SourceAirport = ? AND DestAirport = ?\",\n",
    "                       [precio, SourceAirport, DestAirport])\n",
    "        \n",
    "    # Guardamos los cambios\n",
    "    connection.commit()"
   ]
  },
  {
   "cell_type": "code",
   "execution_count": 6,
   "metadata": {},
   "outputs": [
    {
     "data": {
      "text/plain": [
       "[('Airline', 'FlightNo', 'SourceAirport', 'DestAirport', None, None),\n",
       " (1, 28, 'APG', 'ASY', 1863, None),\n",
       " (1, 29, 'ASY', 'APG', 1454, None),\n",
       " (1, 44, 'CVO', 'ACV', 4862, None),\n",
       " (1, 45, 'ACV', 'CVO', 4900, None),\n",
       " (1, 54, 'AHD', 'AHT', 2223, None),\n",
       " (1, 55, 'AHT', 'AHD', 3930, None),\n",
       " (1, 90, 'ATO', 'ABR', 2609, None),\n",
       " (1, 91, 'ABR', 'ATO', 4227, None),\n",
       " (1, 108, 'ANV', 'MMI', 3094, None),\n",
       " (1, 109, 'MMI', 'ANV', 3184, None),\n",
       " (1, 142, 'ALI', 'AKC', 6889, None),\n",
       " (1, 143, 'AKC', 'ALI', 6900, None),\n",
       " (1, 148, 'HMN', 'ABL', 1344, None),\n",
       " (1, 149, 'ABL', 'HMN', 5291, None)]"
      ]
     },
     "execution_count": 6,
     "metadata": {},
     "output_type": "execute_result"
    }
   ],
   "source": [
    "generar_precio_random(cursor, connection)\n",
    "# Verificamos si funcionó\n",
    "cursor.execute(\"Select * from Flights\")\n",
    "cursor.fetchall() [:15] # El [:15] es para ver nomás 15 filas"
   ]
  },
  {
   "cell_type": "markdown",
   "metadata": {},
   "source": [
    "Ahora haremos lo mismo para la función de distancia, pero realizaremos 2 cambios\n",
    "1. Utilizaremos `format` para hacer las consultas\n",
    "2. Hay que verificar que la distancia entre A y B sea la misma entre B y A."
   ]
  },
  {
   "cell_type": "code",
   "execution_count": 7,
   "metadata": {
    "collapsed": true
   },
   "outputs": [],
   "source": [
    "def generar_distancia_random(cursos, connection):\n",
    "    cursor.execute(\"Select SourceAirport, DestAirport from Flights\")\n",
    "    # fetchall nos traerá todas las filas incluyendo el header\n",
    "    # Por tal motivo le agregamos un `[1:]` para decirle que parta desde el segundo elemento\n",
    "    # en adelante (considerar el primer elemento como la posición 0)\n",
    "    tuplas = cursor.fetchall()[1:]\n",
    "    \n",
    "    # Aquí dejamos los espacios con {} libres para despues llenarlos con format\n",
    "    # En este caso debemos agregar comillas a los string como el SourceAirport y DestAirport\n",
    "    consulta = \"UPDATE Flights SET Distancia = {} WHERE SourceAirport = '{}' AND DestAirport = '{}'\"\n",
    "    \n",
    "    for tupla in tuplas: # Recorremos cada fila\n",
    "        distancia = random.randint(1000, 7000)\n",
    "        SourceAirport = tupla[0]\n",
    "        DestAirport = tupla[1]\n",
    "        cursos.execute(consulta.format(distancia, SourceAirport, DestAirport))\n",
    "        \n",
    "        # Aquí vemos si existe la ruta inversa y sí existe, le ponemos la misma distancia \n",
    "        if (DestAirport, SourceAirport) in tuplas:\n",
    "            cursos.execute(consulta.format(distancia, DestAirport, SourceAirport))\n",
    "            \n",
    "    # Guardamos los cambios\n",
    "    connection.commit()"
   ]
  },
  {
   "cell_type": "code",
   "execution_count": 8,
   "metadata": {},
   "outputs": [
    {
     "data": {
      "text/plain": [
       "[('Airline', 'FlightNo', 'SourceAirport', 'DestAirport', None, None),\n",
       " (1, 28, 'APG', 'ASY', 1863, 2871),\n",
       " (1, 29, 'ASY', 'APG', 1454, 2871),\n",
       " (1, 44, 'CVO', 'ACV', 4862, 1461),\n",
       " (1, 45, 'ACV', 'CVO', 4900, 1461),\n",
       " (1, 54, 'AHD', 'AHT', 2223, 6282),\n",
       " (1, 55, 'AHT', 'AHD', 3930, 6282),\n",
       " (1, 90, 'ATO', 'ABR', 2609, 4188),\n",
       " (1, 91, 'ABR', 'ATO', 4227, 4188),\n",
       " (1, 108, 'ANV', 'MMI', 3094, 1701),\n",
       " (1, 109, 'MMI', 'ANV', 3184, 1701),\n",
       " (1, 142, 'ALI', 'AKC', 6889, 3753),\n",
       " (1, 143, 'AKC', 'ALI', 6900, 3753),\n",
       " (1, 148, 'HMN', 'ABL', 1344, 1326),\n",
       " (1, 149, 'ABL', 'HMN', 5291, 1326)]"
      ]
     },
     "execution_count": 8,
     "metadata": {},
     "output_type": "execute_result"
    }
   ],
   "source": [
    "generar_distancia_random(cursor, connection)\n",
    "# Verificamos si funcionó\n",
    "cursor.execute(\"Select * from Flights\")\n",
    "cursor.fetchall()[:15] # El [:15] es para ver nomás 15 filas"
   ]
  },
  {
   "cell_type": "markdown",
   "metadata": {},
   "source": [
    "# Consultas\n",
    "----------\n",
    "### Consulta 1:\n",
    "> Daniela se encuentra en Apalachicola y un benefactor anónimo decide costearle solo un pasaje desde\n",
    "allí a cualquier parte, para que siga buscando a Vicente. Si ella decidiera darse la gran vida, invertiría\n",
    "la donación en un costoso viaje. ¿Cuál es el vuelo más lujoso al que puede optar desde allí?\n",
    "\n",
    "En resumen, debemos buscar el viaje más costoso desde Apalachicola. Para esto primero necesitamos la sigla de Apalachicola, la cual se obtiene de `Airlines` y obtener la fila que tenga el máximo costo\n",
    "\n",
    "Aquí aprovecharemos lo visto en el material de hacer un for al `cursos.execute` para itelar sobre el resultado"
   ]
  },
  {
   "cell_type": "code",
   "execution_count": 9,
   "metadata": {},
   "outputs": [
    {
     "name": "stdout",
     "output_type": "stream",
     "text": [
      "Airline, FlightNo, SourceAirport, DestAirport, Distancia, Precio, Ciudad\n"
     ]
    },
    {
     "data": {
      "text/plain": [
       "(11, 591, 'AAF', 'ANY', 2063, 6282, 'Apalachicola')"
      ]
     },
     "execution_count": 9,
     "metadata": {},
     "output_type": "execute_result"
    }
   ],
   "source": [
    "ruta_lujosa = None\n",
    "precio_maximo = 0\n",
    "for ruta in cursor.execute(\"Select F.Airline, F.FlightNo, F.SourceAirport, F.DestAirport, F.Distancia, F.Precio, A.City \\\n",
    "                            FROM Flights F, Airports A \\\n",
    "                            WHERE F.SourceAirport = A.AirportCode AND A.City = 'Apalachicola'\"):\n",
    "    \n",
    "    precio = ruta[5]\n",
    "    if precio >= precio_maximo:\n",
    "        ruta_lujosa = ruta\n",
    "        precio_maximo = precio\n",
    "\n",
    "print(\"Airline, FlightNo, SourceAirport, DestAirport, Distancia, Precio, Ciudad\")\n",
    "ruta_lujosa"
   ]
  },
  {
   "cell_type": "markdown",
   "metadata": {},
   "source": [
    "### Consulta 2:\n",
    "> Es probable que Vicente haya escogido vivir en un aeropuerto al que no lleguen muchos vuelos. ¿Cuál\n",
    "es el aeropuerto al que llegan menos rutas?\n",
    "\n",
    "En resumen, debemos agrupar los aeropuertos por el DestAirport para saber cuantas rutas llegan a ese aeropuerto y luego contar. Finalmente ver cual es el DestAirport"
   ]
  },
  {
   "cell_type": "code",
   "execution_count": 10,
   "metadata": {},
   "outputs": [
    {
     "name": "stdout",
     "output_type": "stream",
     "text": [
      "El aeropuerto es AID con 3 rutas\n"
     ]
    }
   ],
   "source": [
    "ruta_minima = None\n",
    "cantidad_ruta = float(\"+inf\") #Numero extremadamente grande\n",
    "for ruta in cursor.execute(\"Select DestAirport, count(*) FROM Flights GROUP BY DestAirport\"):\n",
    "    if ruta[0] != 'DestAirport': #Analizamos las rutas que no contengan el header\n",
    "        cantidad_rutas_llegadas = ruta[1]\n",
    "        if cantidad_rutas_llegadas <= cantidad_ruta:\n",
    "            ruta_minima = ruta\n",
    "            cantidad_ruta = cantidad_rutas_llegadas\n",
    "\n",
    "print(\"El aeropuerto es {} con {} rutas\".format(ruta_minima[0], ruta_minima[1]))"
   ]
  },
  {
   "cell_type": "markdown",
   "metadata": {},
   "source": [
    "### Consulta 5:\n",
    "> Daniela se dio cuenta, finalmente, de que Vicente no pudo haber viajado a más de un aeropuerto, pues\n",
    "debió haberse gastado todo su dinero en comida después del primer viaje. Además, Daniela sabe que\n",
    "Vicente quería alejarse lo más posible de la UC. Asumiendo que la UC está en Apalachicola, ¿dónde\n",
    "está Vicente?\n",
    "\n",
    "Tenemos que buscar la ruta más lejana partiendo de apalachicola. Notar que es lo mismo que la consulta 1 pero no buscaremos el precio máximo, sino que la distancia máxima. Una opción valida es recurrir al `copy/paste` de esa solución y cambiar algunos detalles. La otra opción (que se pude haber hecho antes) es ordenar los datos por distancia y sacar el primero. En este caso usaremos ambas"
   ]
  },
  {
   "cell_type": "code",
   "execution_count": 11,
   "metadata": {},
   "outputs": [
    {
     "name": "stdout",
     "output_type": "stream",
     "text": [
      "Airline, FlightNo, SourceAirport, DestAirport, Distancia, Precio, Ciudad\n"
     ]
    },
    {
     "data": {
      "text/plain": [
       "(4, 166, 'AAF', 'AKI', 6912, 2462, 'Apalachicola')"
      ]
     },
     "execution_count": 11,
     "metadata": {},
     "output_type": "execute_result"
    }
   ],
   "source": [
    "# Forma 1 Copy/Paste y edición\n",
    "cursor.execute(\"Select F.Airline, F.FlightNo, F.SourceAirport, F.DestAirport, F.Distancia, F.Precio, A.City \\\n",
    "                FROM Flights F, Airports A \\\n",
    "                WHERE F.SourceAirport = A.AirportCode AND A.City = 'Apalachicola'\")\n",
    "ruta_lejana = None\n",
    "distancia_maxima = 0\n",
    "for ruta in cursor.fetchall():\n",
    "    distancia = ruta[4]\n",
    "    if distancia >= distancia_maxima:\n",
    "        ruta_lejana = ruta\n",
    "        distancia_maxima = distancia\n",
    "\n",
    "print(\"Airline, FlightNo, SourceAirport, DestAirport, Distancia, Precio, Ciudad\")\n",
    "ruta_lejana"
   ]
  },
  {
   "cell_type": "code",
   "execution_count": 12,
   "metadata": {},
   "outputs": [
    {
     "name": "stdout",
     "output_type": "stream",
     "text": [
      "Airline, FlightNo, SourceAirport, DestAirport, Distancia, Precio, Ciudad\n"
     ]
    },
    {
     "data": {
      "text/plain": [
       "(4, 166, 'AAF', 'AKI', 6912, 2462, 'Apalachicola')"
      ]
     },
     "execution_count": 12,
     "metadata": {},
     "output_type": "execute_result"
    }
   ],
   "source": [
    "# Forma 2 Usar ORDER BY\n",
    "cursor.execute(\"Select F.Airline, F.FlightNo, F.SourceAirport, F.DestAirport, F.Distancia, F.Precio, A.City \\\n",
    "                FROM Flights F, Airports A \\\n",
    "                WHERE F.SourceAirport = A.AirportCode AND A.City = 'Apalachicola'\\\n",
    "                ORDER BY Distancia DESC\")\n",
    "\n",
    "print(\"Airline, FlightNo, SourceAirport, DestAirport, Distancia, Precio, Ciudad\")\n",
    "cursor.fetchone()"
   ]
  },
  {
   "cell_type": "markdown",
   "metadata": {},
   "source": [
    "### Consulta 6:\n",
    "> Después de ir a buscar a Vicente al aeropuerto que determinaste, Daniela debe decidir a qué paraíso\n",
    "terrenal ir. Para esto deben considerar su presupuesto, que es equivalente a 3 veces el precio promedio\n",
    "de los vuelos de la aerolínea con presencia en la mayor cantidad de ciudades. ¿Cuál es su presupuesto?$^{3}$\n",
    "\n",
    "$^{3}$ Una aereolínea está presente en una ciudad si alguno de sus vuelos tiene como origen o destino a esa ciudad.\n",
    "\n",
    "\n",
    "Primero necesitamos encontrar la aerolínea con mayor presencia y luego obtener el precio promedio de todos sus vuelos.\n",
    "Para la primera parte es clave lograr asociar cada aerolinea a las diferentes ciudades que llegan o salen.\n",
    "\n",
    "La solución propuesta es hacer una consulta que asocie cada aerolínea a la ciudad que salen y otra consulta que asocie cada aerolinea a la ciudad que entran. Esto sería algo de la forma:\n",
    "\n",
    "|Aerolínea | Ciudad_que_sale|\n",
    "|--------|-----------|\n",
    "|1|ciudad_1|\n",
    "|1|ciudad_2|\n",
    "|...| ...|\n",
    "\n",
    "\n",
    "|Aerolínea | Ciudad_que_entra|\n",
    "|--------|-----------|\n",
    "|5|ciudad_3|\n",
    "|8|ciudad_7|\n",
    "|...| ...|"
   ]
  },
  {
   "cell_type": "code",
   "execution_count": 13,
   "metadata": {
    "collapsed": true
   },
   "outputs": [],
   "source": [
    "cursor.execute(\"Select F.Airline, A.City\\\n",
    "                FROM Flights F, Airports A \\\n",
    "                WHERE F.SourceAirport = A.AirportCode\")\n",
    "\n",
    "ciudades_origen = cursor.fetchall()\n",
    "\n",
    "cursor.execute(\"Select F.Airline, A.City\\\n",
    "                FROM Flights F, Airports A \\\n",
    "                WHERE F.DestAirport = A.AirportCode\")\n",
    "\n",
    "ciudades_destino = cursor.fetchall()"
   ]
  },
  {
   "cell_type": "markdown",
   "metadata": {},
   "source": [
    "# ¿Que tenemos? \n",
    "1. La lista `ciudades_origen` que son tuplas de aerolíneas con la ciudad en la que parte el vuelo.\n",
    "2. La lista `ciudades_destino` que son tuplas de aerolíneas con la ciudad a la que llega el vuelo.\n",
    "\n",
    "Ahora usaremos un diccionario donde la `key` será la aerolínea y la `value` será un set de las ciudades en las que interactúa dicha aerolínea. Con este terminaremos con un diccionario donde cada `key` es una aerolínea distinta y su `value` es un set de todos las ciudades relacionadas con dicha aerolínea."
   ]
  },
  {
   "cell_type": "code",
   "execution_count": 14,
   "metadata": {
    "collapsed": true
   },
   "outputs": [],
   "source": [
    "airline_dictio = {}\n",
    "\n",
    "for airline, ciudad in ciudades_origen:\n",
    "    if airline in airline_dictio:\n",
    "        airline_dictio[airline].add(ciudad)\n",
    "    else:\n",
    "        airline_dictio[airline] = set()\n",
    "        \n",
    "for airline, ciudad in ciudades_destino:\n",
    "    if airline in airline_dictio:\n",
    "        airline_dictio[airline].add(ciudad)\n",
    "    else:\n",
    "        airline_dictio[airline] = set()"
   ]
  },
  {
   "cell_type": "markdown",
   "metadata": {},
   "source": [
    "Ahora buscaremos la aerolínea con mayor cantidad de ciudades:"
   ]
  },
  {
   "cell_type": "code",
   "execution_count": 15,
   "metadata": {},
   "outputs": [
    {
     "data": {
      "text/plain": [
       "2"
      ]
     },
     "execution_count": 15,
     "metadata": {},
     "output_type": "execute_result"
    }
   ],
   "source": [
    "airline = None\n",
    "ciudades = 0\n",
    "for airline_id in airline_dictio:\n",
    "    num_ciudades = len(airline_dictio[airline_id])\n",
    "    if num_ciudades >= ciudades:\n",
    "        airline = airline_id\n",
    "        ciudades = num_ciudades\n",
    "        \n",
    "airline"
   ]
  },
  {
   "cell_type": "markdown",
   "metadata": {},
   "source": [
    "Con este ID, buscamos los vuelos de esa aerolínea y sacamos el promedio de dinero."
   ]
  },
  {
   "cell_type": "code",
   "execution_count": 16,
   "metadata": {},
   "outputs": [
    {
     "data": {
      "text/plain": [
       "(4344.11,)"
      ]
     },
     "execution_count": 16,
     "metadata": {},
     "output_type": "execute_result"
    }
   ],
   "source": [
    "cursor.execute(\"Select AVG(Precio)\\\n",
    "                FROM Flights\\\n",
    "                WHERE Airline = ?\\\n",
    "                GROUP BY Airline\", [airline])\n",
    "promedio = cursor.fetchone()\n",
    "promedio"
   ]
  },
  {
   "cell_type": "code",
   "execution_count": 17,
   "metadata": {},
   "outputs": [
    {
     "name": "stdout",
     "output_type": "stream",
     "text": [
      "El presupuesto de Daniela es 3 veces ese promedio. En este caso es 13032.330\n"
     ]
    }
   ],
   "source": [
    "print(\"El presupuesto de Daniela es 3 veces ese promedio. En este caso es {:.3f}\".format(promedio[0]*3))"
   ]
  },
  {
   "cell_type": "markdown",
   "metadata": {},
   "source": [
    "Finalmente cerramos la conexion y nos vamos para la casa :D"
   ]
  },
  {
   "cell_type": "code",
   "execution_count": 18,
   "metadata": {
    "collapsed": true
   },
   "outputs": [],
   "source": [
    "connection.close()"
   ]
  },
  {
   "cell_type": "markdown",
   "metadata": {},
   "source": [
    "## **Aclaración**\n",
    "No es estrictamente necesario usar todo en SQL para encontrar algún dato. La idea es que la consulta principal sea en sql como los `join` y poner los `where` o `group by` y finalmente recorrir a Python. Podran notar que la consulta 5 fue hecha de dos formas totalmente válidas. Una usando python para encontrar el máximo y otro usando el `ORDER BY`"
   ]
  },
  {
   "cell_type": "code",
   "execution_count": null,
   "metadata": {
    "collapsed": true
   },
   "outputs": [],
   "source": []
  }
 ],
 "metadata": {
  "kernelspec": {
   "display_name": "Python 3",
   "language": "python",
   "name": "python3"
  },
  "language_info": {
   "codemirror_mode": {
    "name": "ipython",
    "version": 3
   },
   "file_extension": ".py",
   "mimetype": "text/x-python",
   "name": "python",
   "nbconvert_exporter": "python",
   "pygments_lexer": "ipython3",
   "version": "3.5.2"
  }
 },
 "nbformat": 4,
 "nbformat_minor": 2
}
